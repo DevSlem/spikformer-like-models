{
 "cells": [
  {
   "cell_type": "markdown",
   "id": "8f217c7e",
   "metadata": {},
   "source": [
    "# Spike-driven Transformer\n",
    "\n",
    "This notebook provides a simple implementation of Spike-driven Transformer. It is based on the following sources:\n",
    "\n",
    "* **Paper**: Yao, Man, et al. \"[Spike-driven Transformer.](https://arxiv.org/abs/2307.01694)\" arXiv preprint arXiv:2307.01694 (2023).\n",
    "* **Source Code**: [BICLab/Spike-Driven-Transformer (Github)](https://github.com/BICLab/Spike-Driven-Transformer) repository\n",
    "\n",
    "If you're not familiar with Spiking Neural Networks (SNNs) and snnTorch, please refer to the [snnTorch Tutorials](https://snntorch.readthedocs.io/en/latest/tutorials/index.html) before beginning this notebook. Also, please refer to the previous work [Spikformer](spikformer.ipynb) notebook."
   ]
  },
  {
   "cell_type": "markdown",
   "id": "818111d9",
   "metadata": {},
   "source": [
    "## Introduction\n",
    "\n",
    "This paper proposes the Spike-driven Transformer which only exploits sparse addition. This spike-driven paradigm is hardware-friendly to neuromorphic chips. Core contributions of this paper are:\n",
    "\n",
    "* **Spike-Driven Self-Attention (SDSA)**: replaces the self-attention operator between spike Query, Key, and Value with mask and sparse addition, resulting in linear time complexity.\n",
    "* **Membrane Shortcut (MS)**: rearranges the residual connections so that all spiking neurons communicate via binary spikes.\n",
    "\n",
    "The Spike-driven Transformer overcomes the limitations of the Spikformer, outperforming or comparable to the Spikformer on both static and neuromorphic datasets. For instance, it achieves 77.1% top-1 accuracy on ImageNet-1K.\n",
    "\n",
    "At the foremost, import required packages:"
   ]
  },
  {
   "cell_type": "code",
   "execution_count": null,
   "id": "d4424128",
   "metadata": {},
   "outputs": [],
   "source": [
    "!pip install snntorch"
   ]
  },
  {
   "cell_type": "code",
   "execution_count": 2,
   "id": "d7897a1b",
   "metadata": {},
   "outputs": [],
   "source": [
    "import matplotlib.pyplot as plt\n",
    "import snntorch as snn\n",
    "import torch\n",
    "import torch.nn as nn\n",
    "import torch.optim as optim\n",
    "from snntorch import surrogate, utils\n",
    "from torch.utils.data import DataLoader\n",
    "from torchvision import datasets, transforms"
   ]
  },
  {
   "cell_type": "markdown",
   "id": "7f58df99",
   "metadata": {},
   "source": [
    "## DataLoading\n",
    "\n",
    "For the sake of simplicity, we will train the Spike-driven Transformer on the MNIST dataset."
   ]
  },
  {
   "cell_type": "code",
   "execution_count": 3,
   "id": "fc4efb43",
   "metadata": {},
   "outputs": [],
   "source": [
    "batch_size = 128\n",
    "data_path='data/mnist'"
   ]
  },
  {
   "cell_type": "markdown",
   "id": "c69e97df",
   "metadata": {},
   "source": [
    "Create dataloaders:"
   ]
  },
  {
   "cell_type": "code",
   "execution_count": 4,
   "id": "1f288aa3",
   "metadata": {},
   "outputs": [],
   "source": [
    "C = 1\n",
    "H = 28\n",
    "W = 28\n",
    "\n",
    "# Define a transform\n",
    "transform = transforms.Compose([\n",
    "            transforms.Resize((H, W)),\n",
    "            transforms.Grayscale(),\n",
    "            transforms.ToTensor(),\n",
    "            transforms.Normalize((0,), (1,))])\n",
    "\n",
    "mnist_train = datasets.MNIST(data_path, train=True, download=True, transform=transform)\n",
    "mnist_test = datasets.MNIST(data_path, train=False, download=True, transform=transform)\n",
    "\n",
    "# Create DataLoaders\n",
    "train_loader = DataLoader(mnist_train, batch_size=batch_size, shuffle=True)\n",
    "test_loader = DataLoader(mnist_test, batch_size=batch_size, shuffle=True)"
   ]
  },
  {
   "cell_type": "markdown",
   "id": "bce6e1aa",
   "metadata": {},
   "source": [
    "## Spike-driven Transformer Implementation\n",
    "\n",
    "Let's define two common variables to train our SNN:"
   ]
  },
  {
   "cell_type": "code",
   "execution_count": 5,
   "id": "a8d16e42",
   "metadata": {},
   "outputs": [],
   "source": [
    "BETA = 0.9 # membrane potential decay rate\n",
    "SPIKE_GRAD = surrogate.fast_sigmoid() # surrogate gradient function"
   ]
  },
  {
   "cell_type": "markdown",
   "id": "17eb3d53",
   "metadata": {},
   "source": [
    "### Spike-Driven Self-Attention (SDSA)\n",
    "\n",
    "The Spiking Self-Attention (SSA) of the Spikformer converts Query, Key, and Value into spike-form to calculate the attention map by spike matrix multiplications instead of the softmax function. But this not only yields large integers in the output (thus requiring an additional scale multiplication for normalization) but also fails to exploit the full energy-efficiency potential of the spike-driven paradigm. To address these issues, the authors propose the **Spike-Driven Self-Attention (SDSA)**:\n",
    "\n",
    "1. **Hadamard Product**: replaces the matrix multiplication in the self-attention with Hadamard product (element-wise multiplication) between spikes, which is equivalent to the element-wise mask.\n",
    "2. **Matrix Column-wise Summation Followed by Spiking Neuron Layer**: take the role of softmax and scale, resulting in a sparse matrix (typically, the ratio of non-zero elements is less than 0.02).\n",
    "\n",
    "The figure below illustrates the calculation of SDSA (Version 1):\n",
    "\n",
    "![](img/spike-driven-transformer/vsa-sdsa.png)\n",
    "\n",
    "Let's delve into the details of the SDSA. Given a spike input feature sequence $S \\in \\mathbb{R}^{T \\times N \\times D}$, the spike-form $Q$, $K$, and $V$ are computed using different spiking neuron layers like in the Spikformer:\n",
    "\n",
    "$$\n",
    "Q = \\mathcal{SN}_Q (\\text{BN}(SW_Q)), \\quad K = \\mathcal{SN}_K (\\text{BN}(SW_K)), \\quad V = \\mathcal{SN}_V (\\text{BN}(SW_V))\n",
    "$$\n",
    "\n",
    "where $W_Q$, $W_K$ and $W_V$ are the learning weight matrices for the Query, Key, and Value respectively. $\\mathcal{SN}$ is the spiking neuron layer, and $\\text{BN}$ is the batch normalization layer. The key difference between SDSA and SSA is here! SDSA Version 1 is calculated as follows:\n",
    "\n",
    "$$\n",
    "SDSA(Q, K, V) = \\mathcal{SN} (\\text{SUM}_c (Q \\otimes K)) \\otimes V,\n",
    "$$\n",
    "\n",
    "where $\\otimes$ is the Hadamard product (element-wise multiplication), and $\\text{SUM}_c$ is the sum of each column (sum over the sequence dimension $N$). Since the Hadamard product among $Q$, $K$, and $V$ can be exchanged, the SDSA can be rewritten as:\n",
    "\n",
    "$$\n",
    "SDSA(Q, K, V) = Q \\otimes \\mathcal{SN} (\\text{SUM}_c (K \\otimes V)).\n",
    "$$\n",
    "\n",
    "In this view, the above equation is a linear attention whose computational complexity is linear in the token number $N$ since $K$ and $V$ can participate in calculation first. Therefore, we will implement the SDSA in this way.\n",
    "\n",
    "The above description of SDSA is a single-head version. This can be easily extended to multi-head SDSA, similar to the one used in the original Transformer. The visual representation of the SDSA module highlighted in the red box can be seen in the figure below:\n",
    "\n",
    "![](img/spike-driven-transformer/sdsa.png)\n",
    "\n",
    "Wait! If you learn the Spikformer before, you may find the orders of the spike neuron layers in the SDSA are different from the Spikformer. This is because the authors proposed to rearrange the residual connections, enabling all spiking neurons to communicate via binary spikes. We will discuss this in the next section. \n",
    "\n",
    "Anyway, let's implement the SDSA module in snnTorch. We will use Leaky Integrate-and-Fire (LIF) neurons for the spiking neuron layers, which is defined as the `snnTorch.Leaky` class. For simplicity, we don't consider time steps $T$ during the initial implementation. At the end of the `SpikeDrivenTransformer` network, we will loop over the time steps $T$ to compute the final output."
   ]
  },
  {
   "cell_type": "code",
   "execution_count": 6,
   "id": "37bca3b6",
   "metadata": {},
   "outputs": [],
   "source": [
    "class SDSA(nn.Module):\n",
    "    \"\"\"Spike-driven Self-Attention (SDSA)\"\"\"\n",
    "    def __init__(self, dim, num_heads=8) -> None:\n",
    "        super().__init__()\n",
    "        assert dim % num_heads == 0, f\"dim {dim} should be divided by num_heads {num_heads}.\"\n",
    "        \n",
    "        self.dim = dim\n",
    "        self.num_heads = num_heads\n",
    "        \n",
    "        self.shortcut_lif = snn.Leaky(beta=BETA, spike_grad=SPIKE_GRAD, init_hidden=True)\n",
    "        \n",
    "        self.q_linear = nn.Linear(dim, dim)\n",
    "        self.q_bn = nn.BatchNorm1d(dim) \n",
    "        self.q_lif = snn.Leaky(beta=BETA, spike_grad=SPIKE_GRAD, init_hidden=True) \n",
    "        \n",
    "        self.k_linear = nn.Linear(dim, dim)\n",
    "        self.k_bn = nn.BatchNorm1d(dim)\n",
    "        self.k_lif = snn.Leaky(beta=BETA, spike_grad=SPIKE_GRAD, init_hidden=True)\n",
    "        \n",
    "        self.v_linear = nn.Linear(dim, dim)\n",
    "        self.v_bn = nn.BatchNorm1d(dim)\n",
    "        self.v_lif = snn.Leaky(beta=BETA, spike_grad=SPIKE_GRAD, init_hidden=True)\n",
    "        \n",
    "        self.attn_lif = snn.Leaky(beta=BETA, threshold=0.5, spike_grad=SPIKE_GRAD, init_hidden=True)\n",
    "        \n",
    "        self.proj_linear = nn.Linear(dim, dim)\n",
    "        self.proj_bn = nn.BatchNorm1d(dim)\n",
    "        \n",
    "    def forward(self, x):\n",
    "        B, N, D = x.shape\n",
    "        \n",
    "        x = self.shortcut_lif(x) # apply spiking neuron first\n",
    "\n",
    "        # Calculate spike-form Q, K, V\n",
    "        q = self.q_linear(x) # linear transformation\n",
    "        q = self.q_bn(q.transpose(-1, -2)).transpose(-1, -2) # batch normalization\n",
    "        q = self.q_lif(q) # spiking neuron\n",
    "        q = q.reshape(B, N, self.num_heads, D // self.num_heads).transpose(1, 2) # (B, num_heads, N, D // num_heads)\n",
    "        \n",
    "        v = self.v_linear(x)\n",
    "        v = self.v_bn(v.transpose(-1, -2)).transpose(-1, -2)\n",
    "        v = self.v_lif(v)\n",
    "        v = v.reshape(B, N, self.num_heads, D // self.num_heads).transpose(1, 2)\n",
    "        \n",
    "        k = self.k_linear(x)\n",
    "        k = self.k_bn(k.transpose(-1, -2)).transpose(-1, -2)\n",
    "        k = self.k_lif(k)\n",
    "        k = k.reshape(B, N, self.num_heads, D // self.num_heads).transpose(1, 2)\n",
    "\n",
    "        # Calculate spike-driven multi-head self-attention via element-wise multiplication and summation over sequence dimension\n",
    "        kv = k * v\n",
    "        kv = kv.sum(dim=-2, keepdim=True) # (B, num_heads, 1, D // num_heads)\n",
    "        kv = self.attn_lif(kv)\n",
    "        sdsa = q * kv # (B, num_heads, N, D // num_heads)\n",
    "        sdsa = sdsa.transpose(1, 2).reshape(B, N, D) # (B, N, D)\n",
    "        \n",
    "        # Project the output\n",
    "        sdsa = self.proj_linear(sdsa)\n",
    "        sdsa = self.proj_bn(sdsa.transpose(-1, -2)).transpose(-1, -2)\n",
    "        \n",
    "        return sdsa"
   ]
  },
  {
   "cell_type": "markdown",
   "id": "6e20cf65",
   "metadata": {},
   "source": [
    "### Spike-driven Encoder Block\n",
    "\n",
    "The next step is to implement the Spike-driven Encoder Block. The encoder block consists of SDSA and MLP modules, similar to the Spikformer. The key difference lies in the residual connection. Spikformer uses the Spike-Element-Wise (SEW) shortcut as residual connections. Since the SEW shortcut adds binary spikes, the values in the spike tensors become multi-bit (integer) spikes, making it difficult to fully utilize the spike-driven function, which supports only binary spikes.\n",
    "\n",
    "The authors argue that the Membrane Shortcut (MS) is more desirable than the SEW shortcut. MS creates a shortcut between the membrane potentials of spiking neurons, while the SEW shortcut connects the output spikes. The reasons why MS is better than SEW are as follows:\n",
    "\n",
    "1. **Spike-driven**: $\\mathcal{SN}$ is followed by the MS shortcut, ensuring that only binary spike signals exist in the spike tensor.\n",
    "2. **High performance**: The task accuracy of MS-Res-SNN is higher than that of SEW-Res-SNN.\n",
    "3. **Bio-plausibility**: The MS shortcut can be understood as an approach to optimize the membrane potential distribution, aligning with other neuroscience-inspired methods.\n",
    "4. **Dynamical isometry**: MS-Res-SNN has been proven to satisfy the dynamical isometry theory.\n",
    "\n",
    "Specifically, given an input feature sequence or membrane potential $U_0 \\in \\mathbb{R}^{T \\times N \\times D}$, the output of the $L$-block Spike-driven encoder is computed as follows:\n",
    "\n",
    "$$\n",
    "\\begin{aligned}\n",
    "S_{l-1} &= \\mathcal{SN}(U_{l-1}), \\quad &S_{l-1} \\in \\mathbb{R}^{T \\times N \\times D}, l = 1 \\dots L \\\\\n",
    "U_l' &= \\text{SDSA}(S_{l-1}) + U_{l-1}, \\quad &U_l' \\in \\mathbb{R}^{T \\times N \\times D}, l = 1 \\dots L \\\\\n",
    "S_l' &= \\mathcal{SN}(U_l'), \\quad &S_l' \\in \\mathbb{R}^{T \\times N \\times D}, l = 1 \\dots L \\\\\n",
    "U_l &= \\text{MLP}(S_l') + U_l', \\quad &U_l \\in \\mathbb{R}^{T \\times N \\times D}, l = 1 \\dots L \\\\\n",
    "\\end{aligned}\n",
    "$$\n",
    "\n",
    "The implementation of the MS shortcut is straightforward. Just apply spiking neuron layer before linear transformation! For example, the SEW shortcut like in the Spikformer is as such:\n",
    "\n",
    "```python\n",
    "x = linear(x) # or conv(x)\n",
    "x = bn(x)\n",
    "x = lif(x)\n",
    "```\n",
    "\n",
    "In contrast, the MS shortcut is:\n",
    "\n",
    "```python\n",
    "x = lif(x)\n",
    "x = linear(x) # or conv(x)\n",
    "x = bn(x)\n",
    "```\n",
    "\n",
    "That's it! In the practical implementation, Each $\\mathcal{SN}$ before $\\text{SDSA}$ and $\\text{MLP}$ is implemented in the `forward` methods of `SDSA` and `MLP` classes respectively. The visual representation of the Spike-driven encoder block with MS shortcut is shown below:\n",
    "\n",
    "![](img/spike-driven-transformer/encoder-block.png)\n",
    "\n",
    "Now, let's implement the MLP:"
   ]
  },
  {
   "cell_type": "code",
   "execution_count": 7,
   "id": "131b66c6",
   "metadata": {},
   "outputs": [],
   "source": [
    "class MLP(nn.Module):\n",
    "    \"\"\"Multi-layer Perceptron\"\"\"\n",
    "    def __init__(self, in_features, hidden_features=None, out_features=None) -> None:\n",
    "        super().__init__()\n",
    "        out_features = out_features or in_features\n",
    "        hidden_features = hidden_features or in_features\n",
    "        \n",
    "        self.fc1_lif = snn.Leaky(beta=BETA, spike_grad=SPIKE_GRAD, init_hidden=True)\n",
    "        self.fc1_linear = nn.Linear(in_features, hidden_features)\n",
    "        self.fc1_bn = nn.BatchNorm1d(hidden_features)\n",
    "        \n",
    "        self.fc2_lif = snn.Leaky(beta=BETA, spike_grad=SPIKE_GRAD, init_hidden=True)\n",
    "        self.fc2_linear = nn.Linear(hidden_features, out_features)\n",
    "        self.fc2_bn = nn.BatchNorm1d(out_features)\n",
    "        \n",
    "        self.hidden_dim = hidden_features\n",
    "        self.out_dim = out_features\n",
    "        \n",
    "    def forward(self, x):\n",
    "        # x: (B, N, D)\n",
    "        x = self.fc1_lif(x) # apply spiking neuron first\n",
    "        x = self.fc1_linear(x)\n",
    "        x = self.fc1_bn(x.transpose(-1, -2)).transpose(-1, -2)\n",
    "        \n",
    "        x = self.fc2_lif(x) # apply spiking neuron first\n",
    "        x = self.fc2_linear(x)\n",
    "        x = self.fc2_bn(x.transpose(-1, -2)).transpose(-1, -2)\n",
    "        return x"
   ]
  },
  {
   "cell_type": "markdown",
   "id": "90f7097d",
   "metadata": {},
   "source": [
    "and then, implement the Spike-driven encoder block:"
   ]
  },
  {
   "cell_type": "code",
   "execution_count": 8,
   "id": "4bf3b4d8",
   "metadata": {},
   "outputs": [],
   "source": [
    "class SpikeDrivenEncoderBlock(nn.Module):\n",
    "    def __init__(self, dim, num_heads, mlp_ratio=4.0) -> None:\n",
    "        super().__init__()\n",
    "        self.attn = SDSA(dim, num_heads=num_heads)\n",
    "        \n",
    "        mlp_hidden_dim = int(dim * mlp_ratio)\n",
    "        self.mlp = MLP(in_features=dim, hidden_features=mlp_hidden_dim)\n",
    "        \n",
    "    def forward(self, x):\n",
    "        # residual connection is used\n",
    "        x = x + self.attn(x)\n",
    "        x = x + self.mlp(x)\n",
    "        return x"
   ]
  },
  {
   "cell_type": "markdown",
   "id": "a2fdcb1f",
   "metadata": {},
   "source": [
    "Actually, it is same as the `SpikformerEncoderBlock` except for the `SDSA`."
   ]
  },
  {
   "cell_type": "markdown",
   "id": "17068084",
   "metadata": {},
   "source": [
    "### Spiiking Patch Splitting\n",
    "\n",
    "The **Spiking Patch Splitting (SPS)** module linearly projects an image into a $D$-dimensional spike-form feature vector and splits it into a sequence of $N$ flattened spike-form patches $s$. The authors follow the design of the SPS in the Spikformer. See details in the [Spiking Patch Splitting](spikformer.ipynb) section of the Spikformer notebook.\n",
    "\n",
    "The only difference is that the spiking neuron layer is moved from the end of the final patch splitting module (PSM) block to the beginning of the relative positional embedding (RPE) block, and then the spiking neuron layer in the RPE block is removed. Represented as pseudo code, the changes are as follows.\n",
    "\n",
    "**Before:**\n",
    "\n",
    "```python\n",
    "# Final PSM block\n",
    "x = conv3(x)\n",
    "x = bn3(x)\n",
    "x = lif3(x)\n",
    "x = maxpool3(x)\n",
    "\n",
    "# RPE block\n",
    "rpe = rpe_conv(x)\n",
    "rpe = rpe_bn(rpe)\n",
    "rpe = rpe_lif(rpe)\n",
    "x = x + rpe\n",
    "```\n",
    "\n",
    "**After:**\n",
    "\n",
    "```python\n",
    "# Final PSM block\n",
    "x = conv3(x)\n",
    "x = bn3(x)\n",
    "x = maxpool3(x)\n",
    "\n",
    "# RPE block\n",
    "rpe = rpe_lif(x)\n",
    "rpe = rpe_conv(rpe)\n",
    "rpe = rpe_bn(rpe)\n",
    "x = x + rpe\n",
    "```\n",
    "\n",
    "The visual representation of the SPS module is shown below:\n",
    "\n",
    "![](img/spike-driven-transformer/sps.png)\n",
    "\n",
    "Now, let's implement the SPS module. We will use a four-block SPS (the first two blocks do not contain the max-pooling layer) to split a $28 \\times 28$ MNIST image into $49$ $4 \\times 4$ patches. This design choice is inspired by the CIFAR-10 experiment in the Spikformer paper. Additionally, we will implement the SPS with RPE as the `SPS` class and perform the $X_0 = x + \\text{RPE}$ operation at the image level (i.e., without flattening into $N$ patches) for simplicity."
   ]
  },
  {
   "cell_type": "code",
   "execution_count": 9,
   "id": "b05febed",
   "metadata": {},
   "outputs": [],
   "source": [
    "class SPS(nn.Module):\n",
    "    \"\"\"4 x 4 Spiking Patch Splitting (SPS)\"\"\"\n",
    "    def __init__(self, in_channels, embed_dim=256) -> None:\n",
    "        super().__init__()\n",
    "        \n",
    "        self.conv = nn.Conv2d(in_channels, embed_dim // 8, kernel_size=3, stride=1, padding=1, bias=False)\n",
    "        self.bn = nn.BatchNorm2d(embed_dim // 8)\n",
    "        self.lif = snn.Leaky(beta=BETA, spike_grad=SPIKE_GRAD, init_hidden=True)\n",
    "        \n",
    "        self.conv1 = nn.Conv2d(embed_dim // 8, embed_dim // 4, kernel_size=3, stride=1, padding=1, bias=False)\n",
    "        self.bn1 = nn.BatchNorm2d(embed_dim // 4)\n",
    "        self.lif1 = snn.Leaky(beta=BETA, spike_grad=SPIKE_GRAD, init_hidden=True)\n",
    "        \n",
    "        # Two times downsampling\n",
    "        self.conv2 = nn.Conv2d(embed_dim // 4, embed_dim // 2, kernel_size=3, stride=1, padding=1, bias=False)\n",
    "        self.bn2 = nn.BatchNorm2d(embed_dim // 2)\n",
    "        self.lif2 = snn.Leaky(beta=BETA, spike_grad=SPIKE_GRAD, init_hidden=True)\n",
    "        self.maxpool2 = nn.MaxPool2d(kernel_size=3, stride=2, padding=1, dilation=1, ceil_mode=False)\n",
    "        \n",
    "        # Two times downsampling\n",
    "        self.conv3 = nn.Conv2d(embed_dim // 2, embed_dim, kernel_size=3, stride=1, padding=1, bias=False)\n",
    "        self.bn3 = nn.BatchNorm2d(embed_dim)\n",
    "        self.maxpool3 = nn.MaxPool2d(kernel_size=3, stride=2, padding=1, dilation=1, ceil_mode=False)\n",
    "\n",
    "        self.rpe_lif = snn.Leaky(beta=BETA, spike_grad=SPIKE_GRAD, init_hidden=True)    \n",
    "        self.rpe_conv = nn.Conv2d(embed_dim, embed_dim, kernel_size=3, stride=1, padding=1, bias=False)\n",
    "        self.rpe_bn = nn.BatchNorm2d(embed_dim)\n",
    "        \n",
    "    def forward(self, x):\n",
    "        # x: (B, C, H, W)\n",
    "        # Convolutional layers for inductive bias\n",
    "        x = self.conv(x)\n",
    "        x = self.bn(x)\n",
    "        x = self.lif(x)\n",
    "        \n",
    "        x = self.conv1(x)\n",
    "        x = self.bn1(x)\n",
    "        x = self.lif1(x)\n",
    "        \n",
    "        x = self.conv2(x)\n",
    "        x = self.bn2(x)\n",
    "        x = self.lif2(x)\n",
    "        x = self.maxpool2(x)\n",
    "        \n",
    "        # There is no spiking neuron in the final PSM block\n",
    "        x = self.conv3(x)\n",
    "        x = self.bn3(x)\n",
    "        x = self.maxpool3(x)\n",
    "        \n",
    "        # Relative position embedding\n",
    "        rpe = self.rpe_lif(x) # for membrane shortcut\n",
    "        rpe = self.rpe_conv(rpe)\n",
    "        rpe = self.rpe_bn(rpe)\n",
    "        x = x + rpe\n",
    "        \n",
    "        # Split into an image patches sequence\n",
    "        x = x.flatten(-2).transpose(-2, -1) # (B, N, D)\n",
    "        return x"
   ]
  },
  {
   "cell_type": "markdown",
   "id": "5e08b010",
   "metadata": {},
   "source": [
    "### Spike-driven Transformer\n",
    "\n",
    "Finally, we can implement the Spike-driven Transformer. The Spike-driven Transformer model consists of the following components:\n",
    "\n",
    "1. **Spiking Patch Splitting (SPS)**: converts the input image into a sequence of spike-form patches.\n",
    "2. **Spike-driven Encoder Blocks**: a series of $L$ stacked Spike-driven encoder blocks, each containing SSA and MLP components.\n",
    "3. **Classification Head**: a linear layer that maps the output of the last encoder block to the final classification output.\n",
    "\n",
    "First of all, the `SpikeDrivenTransformer` model takes as input an image batch `image_batch` of shape `(B, C, H, W)`. To integrate membrane potentials and generate spikes in spiking neuron layers, our `SpikeDrivenTransformer` model iterates the forward pass of SPS followed by $L$-block Spike-driven encoder over $T$ time steps. For each time step, a global average-pooling (GAP) is utilized on the output of the last encoder block to obtain the $D$-dimensional feature vector. Then, the `head_lif` spiking neuron layer is applied to the feature vector. Finally, the stacked feature vectors over $T$ time steps are averaged to pass through the classification head. These can be represented mathematically: $Y = \\text{CH}(\\text{GAP}(\\mathcal{SN}(U_L)))$."
   ]
  },
  {
   "cell_type": "code",
   "execution_count": 10,
   "id": "6dedda55",
   "metadata": {},
   "outputs": [],
   "source": [
    "class SpikeDrivenTransformer(nn.Module):\n",
    "    def __init__(self, c, num_classes, embed_dim=256, num_heads=8, mlp_ratio=4.0, num_blocks=4, num_steps=4) -> None:\n",
    "        super().__init__()\n",
    "        self.num_steps = num_steps # T\n",
    "        \n",
    "        self.sps = SPS(c, embed_dim=embed_dim)\n",
    "        self.spikformer_encoder_blocks = nn.ModuleList([\n",
    "            SpikeDrivenEncoderBlock(embed_dim, num_heads, mlp_ratio) for _ in range(num_blocks)\n",
    "        ])\n",
    "        \n",
    "        self.head_lif = snn.Leaky(beta=BETA, spike_grad=SPIKE_GRAD, init_hidden=True)\n",
    "        self.classification_head = nn.Linear(embed_dim, num_classes)\n",
    "    \n",
    "    def forward(self, image_batch):\n",
    "        # x: (B, C, H, W)\n",
    "        x_rec = [] # record x over time steps\n",
    "        \n",
    "        # reset/initialize hidden states for all LIF neurons in net\n",
    "        utils.reset(self.sps) \n",
    "        utils.reset(self.spikformer_encoder_blocks)\n",
    "        utils.reset(self.head_lif)\n",
    "        \n",
    "        for step in range(self.num_steps):\n",
    "            # one time step of the forward-pass\n",
    "            x = self.sps(image_batch) # (B, N, D)\n",
    "            for block in self.spikformer_encoder_blocks:\n",
    "                x = block(x)\n",
    "            x = x.mean(dim=1) # global average pooling -> (B, D)\n",
    "            x = self.head_lif(x)\n",
    "            x_rec.append(x)\n",
    "        \n",
    "        y = self.classification_head(torch.stack(x_rec).mean(0))\n",
    "        return y"
   ]
  },
  {
   "cell_type": "markdown",
   "id": "ca88bee8",
   "metadata": {},
   "source": [
    "Congratulations! You have successfully implemented the Spike-driven Transformer model. Now, let's put everything together and train the model on the MNIST dataset."
   ]
  },
  {
   "cell_type": "markdown",
   "id": "274595e1",
   "metadata": {},
   "source": [
    "## Training the Spike-driven Transformer Model\n",
    "\n",
    "Set the device to GPU if available:"
   ]
  },
  {
   "cell_type": "code",
   "execution_count": 11,
   "id": "d66f15d6",
   "metadata": {},
   "outputs": [
    {
     "name": "stdout",
     "output_type": "stream",
     "text": [
      "Using device: cuda\n"
     ]
    }
   ],
   "source": [
    "device = torch.device(\"cuda\") if torch.cuda.is_available() else torch.device(\"cpu\")\n",
    "print(f\"Using device: {device}\")"
   ]
  },
  {
   "cell_type": "markdown",
   "id": "e0fd15d4",
   "metadata": {},
   "source": [
    "The authors demonstrated that Spikformer can be trained with a small number of time steps. In this implementation, we will use only 4 time steps for training, which is presented in the paper. Also, 1 epoch of training is sufficient to achieve a good performance on the MNIST dataset."
   ]
  },
  {
   "cell_type": "code",
   "execution_count": 12,
   "id": "14a33420",
   "metadata": {},
   "outputs": [],
   "source": [
    "num_epochs = 1\n",
    "num_steps = 4 # T"
   ]
  },
  {
   "cell_type": "markdown",
   "id": "49bdf4be",
   "metadata": {},
   "source": [
    "The model is trained using the AdamW optimizer. The loss function is the cross-entropy loss, since the output of the model is logits over the classes like in a standard classification task. Okay, Initialize the `SpikeDrivenTransformer` model, loss function, and optimizer:"
   ]
  },
  {
   "cell_type": "code",
   "execution_count": 13,
   "id": "369060a8",
   "metadata": {},
   "outputs": [],
   "source": [
    "net = SpikeDrivenTransformer(C, num_classes=10, embed_dim=256, num_blocks=4, num_steps=num_steps).to(device)\n",
    "optimizer = optim.AdamW(net.parameters(), lr=0.002)\n",
    "loss_fn = nn.CrossEntropyLoss()"
   ]
  },
  {
   "cell_type": "markdown",
   "id": "aeae7aa2",
   "metadata": {},
   "source": [
    "Define `accuracy_rate` function to compute the accuracy of the model:"
   ]
  },
  {
   "cell_type": "code",
   "execution_count": 14,
   "id": "a1ae4f96",
   "metadata": {},
   "outputs": [],
   "source": [
    "def accuracy_rate(outputs, targets):\n",
    "    predictions = torch.argmax(outputs, dim=-1)\n",
    "    acc = (predictions == targets).to(torch.float32).mean().item()\n",
    "    return acc"
   ]
  },
  {
   "cell_type": "markdown",
   "id": "543305f8",
   "metadata": {},
   "source": [
    "Now, let's train the model:"
   ]
  },
  {
   "cell_type": "code",
   "execution_count": 15,
   "id": "9355a5e7",
   "metadata": {},
   "outputs": [
    {
     "name": "stdout",
     "output_type": "stream",
     "text": [
      "[Epoch 0, Iteration 0] Train loss: 2.466102123260498, Accuracy: 7.03%\n",
      "\n",
      "[Epoch 0, Iteration 25] Train loss: 0.7980519533157349, Accuracy: 78.91%\n",
      "\n",
      "[Epoch 0, Iteration 50] Train loss: 0.5167995095252991, Accuracy: 84.38%\n",
      "\n",
      "[Epoch 0, Iteration 75] Train loss: 0.31484732031822205, Accuracy: 91.41%\n",
      "\n",
      "[Epoch 0, Iteration 100] Train loss: 0.19872580468654633, Accuracy: 95.31%\n",
      "\n",
      "[Epoch 0, Iteration 125] Train loss: 0.272047221660614, Accuracy: 92.19%\n",
      "\n",
      "[Epoch 0, Iteration 150] Train loss: 0.18213918805122375, Accuracy: 95.31%\n",
      "\n",
      "[Epoch 0, Iteration 175] Train loss: 0.24992497265338898, Accuracy: 94.53%\n",
      "\n",
      "[Epoch 0, Iteration 200] Train loss: 0.1556517332792282, Accuracy: 96.09%\n",
      "\n",
      "[Epoch 0, Iteration 225] Train loss: 0.13570944964885712, Accuracy: 97.66%\n",
      "\n",
      "[Epoch 0, Iteration 250] Train loss: 0.09765473008155823, Accuracy: 98.44%\n",
      "\n",
      "[Epoch 0, Iteration 275] Train loss: 0.1659909337759018, Accuracy: 94.53%\n",
      "\n",
      "[Epoch 0, Iteration 300] Train loss: 0.12003803998231888, Accuracy: 96.88%\n",
      "\n",
      "[Epoch 0, Iteration 325] Train loss: 0.062118105590343475, Accuracy: 99.22%\n",
      "\n",
      "[Epoch 0, Iteration 350] Train loss: 0.16355760395526886, Accuracy: 96.09%\n",
      "\n",
      "[Epoch 0, Iteration 375] Train loss: 0.14985112845897675, Accuracy: 95.31%\n",
      "\n",
      "[Epoch 0, Iteration 400] Train loss: 0.11678242683410645, Accuracy: 96.88%\n",
      "\n",
      "[Epoch 0, Iteration 425] Train loss: 0.24847903847694397, Accuracy: 93.75%\n",
      "\n",
      "[Epoch 0, Iteration 450] Train loss: 0.09115277230739594, Accuracy: 96.88%\n",
      "\n"
     ]
    }
   ],
   "source": [
    "loss_hist = []\n",
    "acc_hist = []\n",
    "\n",
    "for epoch in range(num_epochs):\n",
    "    net.train()\n",
    "    \n",
    "    for i, (data, targets) in enumerate(iter(train_loader)):\n",
    "        data = data.to(device)\n",
    "        targets = targets.to(device)\n",
    "        \n",
    "        # feed forward\n",
    "        outputs = net(data)\n",
    "        \n",
    "        # loss calculation\n",
    "        loss = loss_fn(outputs, targets) \n",
    "        \n",
    "        # backpropagation\n",
    "        optimizer.zero_grad()\n",
    "        loss.backward()\n",
    "        optimizer.step()\n",
    "        \n",
    "        loss_hist.append(loss.item())\n",
    "        \n",
    "        if i % 25 == 0:\n",
    "            acc = accuracy_rate(outputs, targets)\n",
    "            acc_hist.append(acc)\n",
    "            print(f\"[Epoch {epoch}, Iteration {i}] Train loss: {loss.item()}, Accuracy: {acc * 100:.2f}%\\n\")\n",
    "    "
   ]
  },
  {
   "cell_type": "markdown",
   "id": "941be5e8",
   "metadata": {},
   "source": [
    "Plot the training loss and accuracy:"
   ]
  },
  {
   "cell_type": "code",
   "execution_count": 16,
   "id": "84406c52",
   "metadata": {},
   "outputs": [
    {
     "data": {
      "image/png": "[encoded data removed]",
      "text/plain": [
       "<Figure size 640x480 with 1 Axes>"
      ]
     },
     "metadata": {},
     "output_type": "display_data"
    },
    {
     "data": {
      "image/png": "[encoded data removed]",
      "text/plain": [
       "<Figure size 640x480 with 1 Axes>"
      ]
     },
     "metadata": {},
     "output_type": "display_data"
    }
   ],
   "source": [
    "plt.plot(loss_hist)\n",
    "plt.xlabel(\"Iteration\")\n",
    "plt.ylabel(\"Loss\")\n",
    "plt.show()\n",
    "\n",
    "plt.plot(torch.arange(len(acc_hist)) * 25, acc_hist)\n",
    "plt.xlabel(\"Iteration\")\n",
    "plt.ylabel(\"Accuracy\")\n",
    "plt.show()"
   ]
  },
  {
   "cell_type": "markdown",
   "id": "abb91960",
   "metadata": {},
   "source": [
    "Let's evaluate the model on the test set:"
   ]
  },
  {
   "cell_type": "code",
   "execution_count": 17,
   "id": "45d55c5c",
   "metadata": {},
   "outputs": [],
   "source": [
    "@torch.no_grad()\n",
    "def test_accuracy(dataloader, net):\n",
    "    total = 0\n",
    "    acc = 0\n",
    "    \n",
    "    for data, targets in iter(dataloader):\n",
    "        data = data.to(device)\n",
    "        targets = targets.to(device)\n",
    "        \n",
    "        outputs = net(data)\n",
    "        \n",
    "        acc += accuracy_rate(outputs, targets) * outputs.size(0)\n",
    "        total += outputs.size(0)\n",
    "        \n",
    "    return acc / total"
   ]
  },
  {
   "cell_type": "code",
   "execution_count": 18,
   "id": "7188b98f",
   "metadata": {},
   "outputs": [
    {
     "name": "stdout",
     "output_type": "stream",
     "text": [
      "Test set accuracy: 96.300%\n"
     ]
    }
   ],
   "source": [
    "print(f\"Test set accuracy: {test_accuracy(test_loader, net)*100:.3f}%\")"
   ]
  },
  {
   "cell_type": "markdown",
   "id": "4f8d86bd",
   "metadata": {},
   "source": [
    "Finished!"
   ]
  }
 ],
 "metadata": {
  "kernelspec": {
   "display_name": "spikformer-like-models",
   "language": "python",
   "name": "python3"
  },
  "language_info": {
   "codemirror_mode": {
    "name": "ipython",
    "version": 3
   },
   "file_extension": ".py",
   "mimetype": "text/x-python",
   "name": "python",
   "nbconvert_exporter": "python",
   "pygments_lexer": "ipython3",
   "version": "3.11.11"
  }
 },
 "nbformat": 4,
 "nbformat_minor": 5
}
