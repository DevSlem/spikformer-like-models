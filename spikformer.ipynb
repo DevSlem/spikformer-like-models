{
 "cells": [
  {
   "cell_type": "markdown",
   "metadata": {},
   "source": [
    "# Spikformer: When Spiking Neural Network Meets Transformer\n",
    "\n",
    "This notebook provides the simple implementation of Spikformer. It is based on the following sources:\n",
    "\n",
    "* **Paper**: Zhou, Zhaokun, et al. \"[Spikformer: When spiking neural network meets transformer.](https://arxiv.org/abs/2209.15425)\" arXiv preprint arXiv:2209.15425 (2022).\n",
    "* **Source Code**: [ZK-Zhou/spikformer (Github)](https://github.com/ZK-Zhou/spikformer) repository\n",
    "\n",
    "If you're not familiar with Spiking Neural Networks (SNNs) and snnTorch, please refer to the [snnTorch Tutorials](https://snntorch.readthedocs.io/en/latest/tutorials/index.html) before beginning this notebook."
   ]
  },
  {
   "cell_type": "markdown",
   "metadata": {},
   "source": [
    "## Introduction\n",
    "\n",
    "This paper introduces a novel framework, *Spikformer*, which integrates Spiking Neural Networks (SNNs) with Transformer architectures. It consists of two key components:\n",
    "\n",
    "* **Spiking Self-Attention (SSA)**: leverages spike-based Query, Key, and Value representations without using softmax.\n",
    "* **Spiking Patch Splitting (SPS)**: converts input images into spike-form feature patches using convolutional layers followed by spiking neurons.\n",
    "\n",
    "This design ensures computational efficiency and low energy consumption. The Spikformer outperforms state-of-the-art SNN frameworks in image classification tasks on both static and neuromorphic datasets. For instance, it achieves 74.81% top-1 accuracy on ImageNet with only four time steps.\n",
    "\n",
    "At the foremost, import required packages:"
   ]
  },
  {
   "cell_type": "code",
   "execution_count": null,
   "metadata": {},
   "outputs": [],
   "source": [
    "!pip install snntorch"
   ]
  },
  {
   "cell_type": "code",
   "execution_count": 1,
   "metadata": {},
   "outputs": [],
   "source": [
    "import matplotlib.pyplot as plt\n",
    "import snntorch as snn\n",
    "import torch\n",
    "import torch.nn as nn\n",
    "import torch.optim as optim\n",
    "from snntorch import surrogate, utils\n",
    "from torch.utils.data import DataLoader\n",
    "from torchvision import datasets, transforms"
   ]
  },
  {
   "cell_type": "markdown",
   "metadata": {},
   "source": [
    "## DataLoading\n",
    "\n",
    "For the sake of simplicity, we will train the Spikformer on the MNIST dataset."
   ]
  },
  {
   "cell_type": "code",
   "execution_count": 2,
   "metadata": {},
   "outputs": [],
   "source": [
    "batch_size = 128\n",
    "data_path='data/mnist'"
   ]
  },
  {
   "cell_type": "markdown",
   "metadata": {},
   "source": [
    "Create dataloaders:"
   ]
  },
  {
   "cell_type": "code",
   "execution_count": 3,
   "metadata": {},
   "outputs": [],
   "source": [
    "C = 1\n",
    "H = 28\n",
    "W = 28\n",
    "\n",
    "# Define a transform\n",
    "transform = transforms.Compose([\n",
    "            transforms.Resize((H, W)),\n",
    "            transforms.Grayscale(),\n",
    "            transforms.ToTensor(),\n",
    "            transforms.Normalize((0,), (1,))])\n",
    "\n",
    "mnist_train = datasets.MNIST(data_path, train=True, download=True, transform=transform)\n",
    "mnist_test = datasets.MNIST(data_path, train=False, download=True, transform=transform)\n",
    "\n",
    "# Create DataLoaders\n",
    "train_loader = DataLoader(mnist_train, batch_size=batch_size, shuffle=True)\n",
    "test_loader = DataLoader(mnist_test, batch_size=batch_size, shuffle=True)"
   ]
  },
  {
   "cell_type": "markdown",
   "metadata": {},
   "source": [
    "## Spikformer Implementation"
   ]
  },
  {
   "cell_type": "markdown",
   "metadata": {},
   "source": [
    "Let's define two common variables to train our SNN:"
   ]
  },
  {
   "cell_type": "code",
   "execution_count": 4,
   "metadata": {},
   "outputs": [],
   "source": [
    "BETA = 0.9 # membrane potential decay rate\n",
    "SPIKE_GRAD = surrogate.fast_sigmoid() # surrogate gradient function"
   ]
  },
  {
   "cell_type": "markdown",
   "metadata": {},
   "source": [
    "### Spiking Self-Attention (SSA)\n",
    "\n",
    "The **Spiking Self-Attention (SSA)** mechanism is the core innovation of the Spikformer architecture, designed to adapt the self-attention mechanism of Transformers for use in Spiking Neural Networks (SNNs). It achieves this by replacing traditional softmax-based attention mechanisms with a biologically plausible, spike-friendly approach. Below is a detailed breakdown of SSA:\n",
    "\n",
    "1. **Spike-form Query ($Q$), Key ($K$), and Value ($V$)**: These are computed using spike-based linear transformations, ensuring compatibility with the binary and sparse nature of spiking data.\n",
    "2. **Attention Calculation**: SSA avoids the computationally expensive softmax operation and instead computes attention weights using simple matrix multiplication.\n",
    "\n",
    "Vanilla self-attention (VSA) requires the softmax function to compute the attention map, which involves exponential calculations and division operations, making it unsuitable for SNNs. In contrast, SSA leverages the naturally non-negative (0 or 1) spike sequences $Q$ and $K$, resulting in a non-negative attention map. This eliminates the need for softmax to ensure non-negativity. The figure below illustrates the intuitive calculation of VSA and SSA:\n",
    "\n",
    "![](img/spikformer/vsa-ssa.png)\n",
    "\n",
    "Let’s delve into the details of SSA. Given an input feature sequence $X \\in \\mathbb{R}^{T \\times N \\times D}$, the spike-form $Q$, $K$, and $V$ are computed using different spiking neuron layers as follows:\n",
    "\n",
    "$$\n",
    "Q = \\mathcal{SN}_Q (\\text{BN}(XW_Q)), \\quad K = \\mathcal{SN}_K (\\text{BN}(XW_K)), \\quad V = \\mathcal{SN}_V (\\text{BN}(XW_V))\n",
    "$$\n",
    "\n",
    "Here, $W_Q$, $W_K$, and $W_V$ are the learnable weight matrices for the query, key, and value projections, respectively. $\\mathcal{SN}$ represents the spiking neuron layer, and $\\text{BN}$ denotes the batch normalization layer. The output of SSA is computed using simple matrix multiplication:\n",
    "\n",
    "$$\n",
    "\\begin{align*}\n",
    "&\\text{SSA}'(Q, K, V) = \\mathcal{SN} (Q K^\\top V * s), \\\\\n",
    "&\\text{SSA}(Q, K, V) = \\mathcal{SN}(\\text{BN}(\\text{Linear}(\\text{SSA}'(Q, K, V)))).\n",
    "\\end{align*}\n",
    "$$\n",
    "\n",
    "Here, $s$ is a scaling factor used to control the magnitude of the matrix multiplication result, typically set to $0.125$. The above description of SSA is a single-head version. This single-head SSA can be easily extended to a multi-head SSA, similar to the one used in the original Transformer architecture. The visual representation of the SSA module highlighted in the red box can be seen in the figure below:\n",
    "\n",
    "![](img/spikformer/ssa.png)\n",
    "\n",
    "Now, let's implement the SSA module. We will use Leaky Integrate-and-Fire (LIF) neurons for the spiking neuron layer, which is defined as the `snnTorch.Leaky` class in the snnTorch library. For simplicity, we will not consider time steps $T$ during the initial implementation. At the end of the `Spikformer` network, we will loop over the time steps $T$ to compute the final output."
   ]
  },
  {
   "cell_type": "code",
   "execution_count": 5,
   "metadata": {},
   "outputs": [],
   "source": [
    "class SSA(nn.Module):\n",
    "    \"\"\"Spiking Self-Attention (SSA)\"\"\"\n",
    "    def __init__(self, dim, num_heads=8) -> None:\n",
    "        super().__init__()\n",
    "        assert dim % num_heads == 0, f\"dim {dim} should be divided by num_heads {num_heads}.\"\n",
    "        \n",
    "        self.dim = dim\n",
    "        self.num_heads = num_heads\n",
    "        self.scale = 0.125 # scaling factor to control the large value of the matrix multiplication\n",
    "        \n",
    "        self.q_linear = nn.Linear(dim, dim)\n",
    "        self.q_bn = nn.BatchNorm1d(dim) \n",
    "        self.q_lif = snn.Leaky(beta=BETA, spike_grad=SPIKE_GRAD, init_hidden=True) \n",
    "        \n",
    "        self.k_linear = nn.Linear(dim, dim)\n",
    "        self.k_bn = nn.BatchNorm1d(dim)\n",
    "        self.k_lif = snn.Leaky(beta=BETA, spike_grad=SPIKE_GRAD, init_hidden=True)\n",
    "        \n",
    "        self.v_linear = nn.Linear(dim, dim)\n",
    "        self.v_bn = nn.BatchNorm1d(dim)\n",
    "        self.v_lif = snn.Leaky(beta=BETA, spike_grad=SPIKE_GRAD, init_hidden=True)\n",
    "        \n",
    "        self.attn_lif = snn.Leaky(beta=BETA, threshold=0.5, spike_grad=SPIKE_GRAD, init_hidden=True)\n",
    "        \n",
    "        self.proj_linear = nn.Linear(dim, dim)\n",
    "        self.proj_bn = nn.BatchNorm1d(dim)\n",
    "        self.proj_lif = snn.Leaky(beta=BETA, spike_grad=SPIKE_GRAD, init_hidden=True)\n",
    "        \n",
    "    def forward(self, x):\n",
    "        B, N, D = x.shape\n",
    "\n",
    "        # Calculate spike-form Q, K, V\n",
    "        q = self.q_linear(x) # linear transformation\n",
    "        q = self.q_bn(q.transpose(-1, -2)).transpose(-1, -2) # batch normalization\n",
    "        q = self.q_lif(q) # spiking neuron\n",
    "        q = q.reshape(B, N, self.num_heads, D // self.num_heads).transpose(1, 2) # (B, num_heads, N, D // num_heads)\n",
    "        \n",
    "        v = self.v_linear(x)\n",
    "        v = self.v_bn(v.transpose(-1, -2)).transpose(-1, -2)\n",
    "        v = self.v_lif(v)\n",
    "        v = v.reshape(B, N, self.num_heads, D // self.num_heads).transpose(1, 2)\n",
    "        \n",
    "        k = self.k_linear(x)\n",
    "        k = self.k_bn(k.transpose(-1, -2)).transpose(-1, -2)\n",
    "        k = self.k_lif(k)\n",
    "        k = k.reshape(B, N, self.num_heads, D // self.num_heads).transpose(1, 2)\n",
    "        \n",
    "        # Calculate spiking multi-head self-attention via matrix multiplication\n",
    "        attn_score = (q @ k.transpose(-2, -1)) * self.scale # (B, num_heads, N, N)\n",
    "        ssa = attn_score @ v # (B, num_heads, N, D // num_heads)\n",
    "        ssa = ssa.transpose(1, 2).reshape(B, N, D) # (B, N, D)\n",
    "        ssa = self.attn_lif(ssa)\n",
    "        \n",
    "        # Project the output\n",
    "        ssa = self.proj_linear(ssa)\n",
    "        ssa = self.proj_bn(ssa.transpose(-1, -2)).transpose(-1, -2)\n",
    "        ssa = self.proj_lif(ssa)\n",
    "        return ssa"
   ]
  },
  {
   "cell_type": "markdown",
   "metadata": {},
   "source": [
    "### Spikformer Encoder Block\n",
    "\n",
    "The next step is to define the Spikformer encoder block. The encoder block consists of two main components:\n",
    "\n",
    "1. **Spiking Self-Attention (SSA)**: computes the attention scores and generates the output based on the input feature sequence.\n",
    "2. **Multi-Layer Perceptron (MLP)**: processes the output from the SSA module to produce the final output of the encoder block.\n",
    "3. **Residual Connection**: applied in both the SSA and MLP block, ensuring that the original information is preserved.\n",
    "\n",
    "Specifically, given an input feature sequence $X_0 \\in \\mathbb{R}^{T \\times N \\times D}$, the output of the $L$-block Spikformer encoder is computed as follows:\n",
    "\n",
    "$$\n",
    "\\begin{aligned}\n",
    "& X_l' = \\text{SSA}(X_{l-1}) + X_{l-1}, \\quad & X_l' &\\in \\mathbb{R}^{T \\times N \\times D}, l = 1 \\dots L \\\\\n",
    "& X_l = \\text{MLP}(X_l') + X_l', \\quad      & X_l  &\\in \\mathbb{R}^{T \\times N \\times D}, l = 1 \\dots L\n",
    "\\end{aligned}\n",
    "$$\n",
    "\n",
    "The visual representation of the Spikformer encoder block is shown below:\n",
    "\n",
    "![](img/spikformer/spikformer-encoder-block.png)\n",
    "\n",
    "Now, let's implement the MLP:"
   ]
  },
  {
   "cell_type": "code",
   "execution_count": 6,
   "metadata": {},
   "outputs": [],
   "source": [
    "class MLP(nn.Module):\n",
    "    \"\"\"Multi-layer Perceptron\"\"\"\n",
    "    def __init__(self, in_features, hidden_features=None, out_features=None) -> None:\n",
    "        super().__init__()\n",
    "        out_features = out_features or in_features\n",
    "        hidden_features = hidden_features or in_features\n",
    "        \n",
    "        self.fc1_linear = nn.Linear(in_features, hidden_features)\n",
    "        self.fc1_bn = nn.BatchNorm1d(hidden_features)\n",
    "        self.fc1_lif = snn.Leaky(beta=BETA, spike_grad=SPIKE_GRAD, init_hidden=True)\n",
    "        \n",
    "        self.fc2_linear = nn.Linear(hidden_features, out_features)\n",
    "        self.fc2_bn = nn.BatchNorm1d(out_features)\n",
    "        self.fc2_lif = snn.Leaky(beta=BETA, spike_grad=SPIKE_GRAD, init_hidden=True)\n",
    "        \n",
    "        self.hidden_dim = hidden_features\n",
    "        self.out_dim = out_features\n",
    "        \n",
    "    def forward(self, x):\n",
    "        # x: (B, N, D)\n",
    "        x = self.fc1_linear(x)\n",
    "        x = self.fc1_bn(x.transpose(-1, -2)).transpose(-1, -2)\n",
    "        x = self.fc1_lif(x)\n",
    "        \n",
    "        x = self.fc2_linear(x)\n",
    "        x = self.fc2_bn(x.transpose(-1, -2)).transpose(-1, -2)\n",
    "        x = self.fc2_lif(x)\n",
    "        return x"
   ]
  },
  {
   "cell_type": "markdown",
   "metadata": {},
   "source": [
    "and then, implement the Spikformer encoder block:"
   ]
  },
  {
   "cell_type": "code",
   "execution_count": 7,
   "metadata": {},
   "outputs": [],
   "source": [
    "class SpikformerEncoderBlock(nn.Module):\n",
    "    def __init__(self, dim, num_heads, mlp_ratio=4.0) -> None:\n",
    "        super().__init__()\n",
    "        self.attn = SSA(dim, num_heads=num_heads)\n",
    "        \n",
    "        mlp_hidden_dim = int(dim * mlp_ratio)\n",
    "        self.mlp = MLP(in_features=dim, hidden_features=mlp_hidden_dim)\n",
    "        \n",
    "    def forward(self, x):\n",
    "        # residual connection is used\n",
    "        x = x + self.attn(x)\n",
    "        x = x + self.mlp(x)\n",
    "        return x"
   ]
  },
  {
   "cell_type": "markdown",
   "metadata": {},
   "source": [
    "### Spiking Patch Splitting\n",
    "\n",
    "The **Spiking Patch Splitting (SPS)** module linearly projects an image into a $D$-dimensional spike-form feature vector and splits it into a sequence of $N$ flattened spike-form patches $x$. Similar to the convolutional stem in Vision Transformer (ViT), a convolution layer in each SPS block is used to introduce inductive bias into Spikformer. Specifically, given an image sequence $I \\in \\mathbb{R}^{T \\times C \\times H \\times W}$, the SPS is defined as:\n",
    "\n",
    "$$\n",
    "x = \\mathcal{MP}(\\mathcal{SN}(\\text{BN}(\\text{Conv2d}(I))))\n",
    "$$\n",
    "\n",
    "where $\\text{Conv2d}$ and $\\mathcal{MP}$ represent the 2D convolution layer (stride-1, 3 × 3 kernel size) and max-pooling, respectively. The number of SPS blocks can be more than one. When using multiple SPS blocks, the number of output channels in these convolution layers is gradually increased and eventually matches the embedding dimension of the patches. A 2D max-pooling layer is applied to down-sample the feature size after each SPS block with a fixed size. After processing through the SPS, $I$ is split into an image patch sequence $x \\in \\mathbb{R}^{T \\times N \\times D}$.\n",
    "\n",
    "Additionally, positional embedding is added to the input feature sequence $x$ to retain the spatial information of the image. Floating-point positional embeddings, such as sinusoidal positional embeddings, are not suitable for SNNs. Therefore, the authors employ a conditional positional embedding generator (Chu et al., 2021) to generate spike-form relative positional embeddings (RPE) and add the RPE to the patch sequence $x$ to obtain $X_0$. The conditional positional embedding generator consists of a 2D convolution layer ($\\text{Conv2d}$) with a kernel size of 3, batch normalization ($\\text{BN}$), and a spiking neuron layer ($\\mathcal{SN}$). Formally, the SPS with RPE is defined as:\n",
    "\n",
    "$$\n",
    "\\begin{aligned}\n",
    "&x = \\text{SPS}(I), \\quad & I \\in \\mathbb{R}^{T \\times C \\times H \\times W}, x \\in \\mathbb{R}^{T \\times N \\times D} \\\\\n",
    "&\\text{RPE} = \\mathcal{SN}(\\text{BN}(\\text{Conv2d}(x))), \\quad & \\text{RPE}(x) \\in \\mathbb{R}^{T \\times N \\times D} \\\\\n",
    "&X_0 = x + \\text{RPE}, \\quad & X_0 \\in \\mathbb{R}^{T \\times N \\times D}\n",
    "\\end{aligned}\n",
    "$$\n",
    "\n",
    "The visual representation of the SPS module is shown below:\n",
    "\n",
    "![](img/spikformer/sps.png)\n",
    "\n",
    "Now, let's implement the SPS module. We will use a four-block SPS (the first two blocks do not contain the max-pooling layer) to split a $28 \\times 28$ MNIST image into $49$ $4 \\times 4$ patches. This design choice is inspired by the CIFAR-10 experiment in the paper. Additionally, we will implement the SPS with RPE as the `SPS` class and perform the $X_0 = x + \\text{RPE}$ operation at the image level (i.e., without flattening into $N$ patches) for simplicity."
   ]
  },
  {
   "cell_type": "code",
   "execution_count": 8,
   "metadata": {},
   "outputs": [],
   "source": [
    "class SPS(nn.Module):\n",
    "    \"\"\"4 x 4 Spiking Patch Splitting (SPS)\"\"\"\n",
    "    def __init__(self, in_channels, embed_dim=256) -> None:\n",
    "        super().__init__()\n",
    "        \n",
    "        self.conv = nn.Conv2d(in_channels, embed_dim // 8, kernel_size=3, stride=1, padding=1, bias=False)\n",
    "        self.bn = nn.BatchNorm2d(embed_dim // 8)\n",
    "        self.lif = snn.Leaky(beta=BETA, spike_grad=SPIKE_GRAD, init_hidden=True)\n",
    "        \n",
    "        self.conv1 = nn.Conv2d(embed_dim // 8, embed_dim // 4, kernel_size=3, stride=1, padding=1, bias=False)\n",
    "        self.bn1 = nn.BatchNorm2d(embed_dim // 4)\n",
    "        self.lif1 = snn.Leaky(beta=BETA, spike_grad=SPIKE_GRAD, init_hidden=True)\n",
    "        \n",
    "        # Two times downsampling\n",
    "        self.conv2 = nn.Conv2d(embed_dim // 4, embed_dim // 2, kernel_size=3, stride=1, padding=1, bias=False)\n",
    "        self.bn2 = nn.BatchNorm2d(embed_dim // 2)\n",
    "        self.lif2 = snn.Leaky(beta=BETA, spike_grad=SPIKE_GRAD, init_hidden=True)\n",
    "        self.maxpool2 = nn.MaxPool2d(kernel_size=3, stride=2, padding=1, dilation=1, ceil_mode=False)\n",
    "        \n",
    "        # Two times downsampling\n",
    "        self.conv3 = nn.Conv2d(embed_dim // 2, embed_dim, kernel_size=3, stride=1, padding=1, bias=False)\n",
    "        self.bn3 = nn.BatchNorm2d(embed_dim)\n",
    "        self.lif3 = snn.Leaky(beta=BETA, spike_grad=SPIKE_GRAD, init_hidden=True)\n",
    "        self.maxpool3 = nn.MaxPool2d(kernel_size=3, stride=2, padding=1, dilation=1, ceil_mode=False)\n",
    "        \n",
    "        self.rpe_conv = nn.Conv2d(embed_dim, embed_dim, kernel_size=3, stride=1, padding=1, bias=False)\n",
    "        self.rpe_bn = nn.BatchNorm2d(embed_dim)\n",
    "        self.rpe_lif = snn.Leaky(beta=BETA, spike_grad=SPIKE_GRAD, init_hidden=True)\n",
    "        \n",
    "    def forward(self, x):\n",
    "        # x: (B, C, H, W)\n",
    "        # Convolutional layers for inductive bias\n",
    "        x = self.conv(x)\n",
    "        x = self.bn(x)\n",
    "        x = self.lif(x)\n",
    "        \n",
    "        x = self.conv1(x)\n",
    "        x = self.bn1(x)\n",
    "        x = self.lif1(x)\n",
    "        \n",
    "        x = self.conv2(x)\n",
    "        x = self.bn2(x)\n",
    "        x = self.lif2(x)\n",
    "        x = self.maxpool2(x)\n",
    "        \n",
    "        x = self.conv3(x)\n",
    "        x = self.bn3(x)\n",
    "        x = self.lif3(x)\n",
    "        x = self.maxpool3(x)\n",
    "        \n",
    "        # Relative position embedding\n",
    "        rpe = self.rpe_conv(x)\n",
    "        rpe = self.rpe_bn(rpe)\n",
    "        rpe = self.rpe_lif(rpe)\n",
    "        x = x + rpe\n",
    "        \n",
    "        # Split into an image patches sequence\n",
    "        x = x.flatten(-2).transpose(-2, -1) # (B, N, D)\n",
    "        return x"
   ]
  },
  {
   "cell_type": "markdown",
   "metadata": {},
   "source": [
    "### Spikformer\n",
    "\n",
    "Finally, we can implement the Spikformer model. The Spikformer model consists of the following components:\n",
    "\n",
    "1. **Spiking Patch Splitting (SPS)**: converts the input image into a sequence of spike-form patches.\n",
    "2. **Spikformer Encoder Blocks**: a series of $L$ stacked Spikformer encoder blocks, each containing SSA and MLP components.\n",
    "3. **Classification Head**: a linear layer that maps the output of the last encoder block to the final classification output.\n",
    "\n",
    "First of all, the `Spikformer` model takes as input an image batch `image_batch` of shape `(B, C, H, W)`. To integrate membrane potentials and generate spikes in spiking neuron layers, our `Spikformer` model iterates the forward pass of SPS followed by $L$-block Spikformer encoder over $T$ time steps. For each time step, a global average-pooling (GAP) is utilized on the output of the last encoder block to obtain the $D$-dimensional feature vector. Finally, the stacked feature vectors over $T$ time steps are averaged to pass through the classification head."
   ]
  },
  {
   "cell_type": "code",
   "execution_count": 9,
   "metadata": {},
   "outputs": [],
   "source": [
    "class Spikformer(nn.Module):\n",
    "    def __init__(self, c, num_classes, embed_dim=256, num_heads=8, mlp_ratio=4.0, num_blocks=4, num_steps=4) -> None:\n",
    "        super().__init__()\n",
    "        self.num_steps = num_steps # T\n",
    "        \n",
    "        self.sps = SPS(c, embed_dim=embed_dim)\n",
    "        self.spikformer_encoder_blocks = nn.ModuleList([\n",
    "            SpikformerEncoderBlock(embed_dim, num_heads, mlp_ratio) for _ in range(num_blocks)\n",
    "        ])\n",
    "        \n",
    "        self.classification_head = nn.Linear(embed_dim, num_classes)\n",
    "    \n",
    "    def forward(self, image_batch):\n",
    "        # x: (B, C, H, W)\n",
    "        x_rec = [] # record x over time steps\n",
    "        \n",
    "        # reset/initialize hidden states for all LIF neurons in net\n",
    "        utils.reset(self.sps) \n",
    "        utils.reset(self.spikformer_encoder_blocks)\n",
    "        \n",
    "        for step in range(self.num_steps):\n",
    "            # one time step of the forward-pass\n",
    "            x = self.sps(image_batch) # (B, N, D)\n",
    "            for block in self.spikformer_encoder_blocks:\n",
    "                x = block(x)\n",
    "            x = x.mean(dim=1) # global average pooling -> (B, D)\n",
    "            x_rec.append(x)\n",
    "        \n",
    "        y = self.classification_head(torch.stack(x_rec).mean(0))\n",
    "        return y"
   ]
  },
  {
   "cell_type": "markdown",
   "metadata": {},
   "source": [
    "Congratulations! You have successfully implemented the Spikformer model. Now, let's put everything together and train the model on the MNIST dataset."
   ]
  },
  {
   "cell_type": "markdown",
   "metadata": {},
   "source": [
    "## Training the Spikformer Model\n",
    "\n",
    "Set the device to GPU if available:"
   ]
  },
  {
   "cell_type": "code",
   "execution_count": 10,
   "metadata": {},
   "outputs": [
    {
     "name": "stdout",
     "output_type": "stream",
     "text": [
      "Using device: cuda\n"
     ]
    }
   ],
   "source": [
    "device = torch.device(\"cuda\") if torch.cuda.is_available() else torch.device(\"cpu\")\n",
    "print(f\"Using device: {device}\")"
   ]
  },
  {
   "cell_type": "markdown",
   "metadata": {},
   "source": [
    "The authors demonstrated that Spikformer can be trained with a small number of time steps. In this implementation, we will use only 4 time steps for training, which is presented in the paper. Also, 1 epoch of training is sufficient to achieve a good performance on the MNIST dataset."
   ]
  },
  {
   "cell_type": "code",
   "execution_count": 11,
   "metadata": {},
   "outputs": [],
   "source": [
    "num_epochs = 1\n",
    "num_steps = 4 # T"
   ]
  },
  {
   "cell_type": "markdown",
   "metadata": {},
   "source": [
    "The model is trained using the AdamW optimizer. The loss function is the cross-entropy loss, since the output of the model is logits over the classes like in a standard classification task. Okay, Initialize the `Spikformer` model, loss function, and optimizer:"
   ]
  },
  {
   "cell_type": "code",
   "execution_count": 12,
   "metadata": {},
   "outputs": [],
   "source": [
    "net = Spikformer(C, num_classes=10, embed_dim=256, num_blocks=4, num_steps=num_steps).to(device)\n",
    "optimizer = optim.AdamW(net.parameters(), lr=0.002)\n",
    "loss_fn = nn.CrossEntropyLoss()"
   ]
  },
  {
   "cell_type": "markdown",
   "metadata": {},
   "source": [
    "Define `accuracy_rate` function to compute the accuracy of the model:"
   ]
  },
  {
   "cell_type": "code",
   "execution_count": 13,
   "metadata": {},
   "outputs": [],
   "source": [
    "def accuracy_rate(outputs, targets):\n",
    "    predictions = torch.argmax(outputs, dim=-1)\n",
    "    acc = (predictions == targets).to(torch.float32).mean().item()\n",
    "    return acc"
   ]
  },
  {
   "cell_type": "markdown",
   "metadata": {},
   "source": [
    "Now, let's train the model."
   ]
  },
  {
   "cell_type": "code",
   "execution_count": 14,
   "metadata": {},
   "outputs": [
    {
     "name": "stdout",
     "output_type": "stream",
     "text": [
      "[Epoch 0, Iteration 0] Train loss: 2.58730411529541, Accuracy: 7.81%\n",
      "\n",
      "[Epoch 0, Iteration 25] Train loss: 0.6041925549507141, Accuracy: 81.25%\n",
      "\n",
      "[Epoch 0, Iteration 50] Train loss: 0.4653847813606262, Accuracy: 85.94%\n",
      "\n",
      "[Epoch 0, Iteration 75] Train loss: 0.24694672226905823, Accuracy: 91.41%\n",
      "\n",
      "[Epoch 0, Iteration 100] Train loss: 0.37198737263679504, Accuracy: 89.06%\n",
      "\n",
      "[Epoch 0, Iteration 125] Train loss: 0.252992182970047, Accuracy: 93.75%\n",
      "\n",
      "[Epoch 0, Iteration 150] Train loss: 0.23890255391597748, Accuracy: 92.97%\n",
      "\n",
      "[Epoch 0, Iteration 175] Train loss: 0.2320428192615509, Accuracy: 92.97%\n",
      "\n",
      "[Epoch 0, Iteration 200] Train loss: 0.12158967554569244, Accuracy: 95.31%\n",
      "\n",
      "[Epoch 0, Iteration 225] Train loss: 0.2790546417236328, Accuracy: 89.84%\n",
      "\n",
      "[Epoch 0, Iteration 250] Train loss: 0.18178506195545197, Accuracy: 92.97%\n",
      "\n",
      "[Epoch 0, Iteration 275] Train loss: 0.2596200704574585, Accuracy: 89.84%\n",
      "\n",
      "[Epoch 0, Iteration 300] Train loss: 0.17829443514347076, Accuracy: 94.53%\n",
      "\n",
      "[Epoch 0, Iteration 325] Train loss: 0.15676575899124146, Accuracy: 94.53%\n",
      "\n",
      "[Epoch 0, Iteration 350] Train loss: 0.2196533977985382, Accuracy: 93.75%\n",
      "\n",
      "[Epoch 0, Iteration 375] Train loss: 0.24870875477790833, Accuracy: 92.19%\n",
      "\n",
      "[Epoch 0, Iteration 400] Train loss: 0.1618521511554718, Accuracy: 96.09%\n",
      "\n",
      "[Epoch 0, Iteration 425] Train loss: 0.10131589323282242, Accuracy: 96.88%\n",
      "\n",
      "[Epoch 0, Iteration 450] Train loss: 0.10047765076160431, Accuracy: 96.88%\n",
      "\n"
     ]
    }
   ],
   "source": [
    "loss_hist = []\n",
    "acc_hist = []\n",
    "\n",
    "for epoch in range(num_epochs):\n",
    "    net.train()\n",
    "    \n",
    "    for i, (data, targets) in enumerate(iter(train_loader)):\n",
    "        data = data.to(device)\n",
    "        targets = targets.to(device)\n",
    "        \n",
    "        # feed forward\n",
    "        outputs = net(data)\n",
    "        \n",
    "        # loss calculation\n",
    "        loss = loss_fn(outputs, targets) \n",
    "        \n",
    "        # backpropagation\n",
    "        optimizer.zero_grad()\n",
    "        loss.backward()\n",
    "        optimizer.step()\n",
    "        \n",
    "        loss_hist.append(loss.item())\n",
    "        \n",
    "        if i % 25 == 0:\n",
    "            acc = accuracy_rate(outputs, targets)\n",
    "            acc_hist.append(acc)\n",
    "            print(f\"[Epoch {epoch}, Iteration {i}] Train loss: {loss.item()}, Accuracy: {acc * 100:.2f}%\\n\")\n",
    "    "
   ]
  },
  {
   "cell_type": "markdown",
   "metadata": {},
   "source": [
    "Plot the training loss and accuracy:"
   ]
  },
  {
   "cell_type": "code",
   "execution_count": 15,
   "metadata": {},
   "outputs": [
    {
     "data": {
      "image/png": "[encoded data removed]",
      "text/plain": [
       "<Figure size 640x480 with 1 Axes>"
      ]
     },
     "metadata": {},
     "output_type": "display_data"
    },
    {
     "data": {
      "image/png": "[encoded data removed]",
      "text/plain": [
       "<Figure size 640x480 with 1 Axes>"
      ]
     },
     "metadata": {},
     "output_type": "display_data"
    }
   ],
   "source": [
    "plt.plot(loss_hist)\n",
    "plt.xlabel(\"Iteration\")\n",
    "plt.ylabel(\"Loss\")\n",
    "plt.show()\n",
    "\n",
    "plt.plot(torch.arange(len(acc_hist)) * 25, acc_hist)\n",
    "plt.xlabel(\"Iteration\")\n",
    "plt.ylabel(\"Accuracy\")\n",
    "plt.show()"
   ]
  },
  {
   "cell_type": "markdown",
   "metadata": {},
   "source": [
    "Let's evaluate the model on the test set:"
   ]
  },
  {
   "cell_type": "code",
   "execution_count": 16,
   "metadata": {},
   "outputs": [],
   "source": [
    "@torch.no_grad()\n",
    "def test_accuracy(dataloader, net):\n",
    "    total = 0\n",
    "    acc = 0\n",
    "    \n",
    "    for data, targets in iter(dataloader):\n",
    "        data = data.to(device)\n",
    "        targets = targets.to(device)\n",
    "        \n",
    "        outputs = net(data)\n",
    "        \n",
    "        acc += accuracy_rate(outputs, targets) * outputs.size(0)\n",
    "        total += outputs.size(0)\n",
    "        \n",
    "    return acc / total"
   ]
  },
  {
   "cell_type": "code",
   "execution_count": 17,
   "metadata": {},
   "outputs": [
    {
     "name": "stdout",
     "output_type": "stream",
     "text": [
      "Test set accuracy: 96.400%\n"
     ]
    }
   ],
   "source": [
    "print(f\"Test set accuracy: {test_accuracy(test_loader, net)*100:.3f}%\")"
   ]
  },
  {
   "cell_type": "markdown",
   "metadata": {},
   "source": [
    "Finished!"
   ]
  }
 ],
 "metadata": {
  "kernelspec": {
   "display_name": "spikformer-like-models",
   "language": "python",
   "name": "python3"
  },
  "language_info": {
   "codemirror_mode": {
    "name": "ipython",
    "version": 3
   },
   "file_extension": ".py",
   "mimetype": "text/x-python",
   "name": "python",
   "nbconvert_exporter": "python",
   "pygments_lexer": "ipython3",
   "version": "3.11.11"
  }
 },
 "nbformat": 4,
 "nbformat_minor": 2
}
